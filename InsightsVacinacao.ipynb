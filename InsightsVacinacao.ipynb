{
 "cells": [
  {
   "cell_type": "markdown",
   "source": [
    "# Dados de Vacinação - SUS"
   ],
   "metadata": {}
  },
  {
   "cell_type": "markdown",
   "source": [
    "Esse projeto de Data Analytics tem como objetivo a coleta de dados, a limpeza dos dados e a exploração dos dados de vacinação divulgados pelo 'Open Data SUS' no link https://opendatasus.saude.gov.br/."
   ],
   "metadata": {}
  },
  {
   "cell_type": "markdown",
   "source": [
    "## Dicionário de Dados"
   ],
   "metadata": {}
  },
  {
   "cell_type": "code",
   "execution_count": 1,
   "source": [
    "'''\r\n",
    "document_id: identificador do documento\r\n",
    "paciente_id: identificador do vacinado\r\n",
    "paciente_idade: idade do vacinado\r\n",
    "paciente_dataNascimento: Data de nascimento do vacinado\r\n",
    "paciente_enumSexoBiologico: sexo do vacinado (M - Masculino; F - Feminino)\r\n",
    "paciente_racaCor_codigo: código da raça/cor do vacinado (1; 2; 3; 4; 99)\r\n",
    "paciente_racaCor_valor: descrição da raça/cor do vacinado (1 - Branca; 2 - Preta; 3 - Parda; 4 - Amarela; 99 - Sem informação)\r\n",
    "paciente_endereco_coIbgeMunicipio: código IBGE do município de endereço do vacinado\r\n",
    "paciente_endereco_coPais: código do país de endereço do vacinado\r\n",
    "paciente_endereco_nmMunicipio: nome do município de endereço do vacinado\r\n",
    "paciente_endereco_nmPais: nome do país de endereço do vacinado\r\n",
    "paciente_endereco_uf: sigla da UF de endereço do vacinado\r\n",
    "paciente_endereco_cep: 5 dígitos para anonimizado e 7 dígitos para identificado\r\n",
    "paciente_nacionalidade_enumNacionalidade: Nacionalidade do vacinado\r\n",
    "estabelecimento_valor: código do CNES do estabelecimento que realizou a vacinação\r\n",
    "estabelecimento_razaosocial: nome/razão social do estabelecimento\r\n",
    "estabelecimento_noFantasia: nome fantasia do estabelecimento\r\n",
    "estabelecimento_municipio_codigo: código do município do estabelecimento\r\n",
    "estabelecimento_municipio_nome: nome do município do estabelecimento\r\n",
    "estabelecimento_uf: sigla da UF do estabelecimento\r\n",
    "vacina_grupo_atendimento_code: código do grupo de atendimento ao qual pertence o vacinado\r\n",
    "vacina_grupo_atendimento_nome: nome do grupo de atendimento ao qual pertence o vacinado\r\n",
    "vacina_categoria_code: código da categoria\r\n",
    "vacina_categoria_nome: descrição da categoria\r\n",
    "vacina_lote: número do lote da vacina\r\n",
    "vacina_fabricante_nome: nome do fabricante/fornecedor\r\n",
    "vacina_fabricante_referencia: CNPJ do fabricante/fornecedor\r\n",
    "vacina_dataAplicacao: data de aplicação da vacina\r\n",
    "vacina_descricao_dose: descrição da dose\r\n",
    "vacina_codigo: código da vacina\r\n",
    "vacina_nome: nome da vacina/produto\r\n",
    "sistema origem: nome do sistema de origem\r\n",
    "'''"
   ],
   "outputs": [
    {
     "output_type": "execute_result",
     "data": {
      "text/plain": [
       "'\\ndocument_id: identificador do documento\\npaciente_id: identificador do vacinado\\npaciente_idade: idade do vacinado\\npaciente_dataNascimento: Data de nascimento do vacinado\\npaciente_enumSexoBiologico: sexo do vacinado (M - Masculino; F - Feminino)\\npaciente_racaCor_codigo: código da raça/cor do vacinado (1; 2; 3; 4; 99)\\npaciente_racaCor_valor: descrição da raça/cor do vacinado (1 - Branca; 2 - Preta; 3 - Parda; 4 - Amarela; 99 - Sem informação)\\npaciente_endereco_coIbgeMunicipio: código IBGE do município de endereço do vacinado\\npaciente_endereco_coPais: código do país de endereço do vacinado\\npaciente_endereco_nmMunicipio: nome do município de endereço do vacinado\\npaciente_endereco_nmPais: nome do país de endereço do vacinado\\npaciente_endereco_uf: sigla da UF de endereço do vacinado\\npaciente_endereco_cep: 5 dígitos para anonimizado e 7 dígitos para identificado\\npaciente_nacionalidade_enumNacionalidade: Nacionalidade do vacinado\\nestabelecimento_valor: código do CNES do estabelecimento que realizou a vacinação\\nestabelecimento_razaosocial: nome/razão social do estabelecimento\\nestabelecimento_noFantasia: nome fantasia do estabelecimento\\nestabelecimento_municipio_codigo: código do município do estabelecimento\\nestabelecimento_municipio_nome: nome do município do estabelecimento\\nestabelecimento_uf: sigla da UF do estabelecimento\\nvacina_grupo_atendimento_code: código do grupo de atendimento ao qual pertence o vacinado\\nvacina_grupo_atendimento_nome: nome do grupo de atendimento ao qual pertence o vacinado\\nvacina_categoria_code: código da categoria\\nvacina_categoria_nome: descrição da categoria\\nvacina_lote: número do lote da vacina\\nvacina_fabricante_nome: nome do fabricante/fornecedor\\nvacina_fabricante_referencia: CNPJ do fabricante/fornecedor\\nvacina_dataAplicacao: data de aplicação da vacina\\nvacina_descricao_dose: descrição da dose\\nvacina_codigo: código da vacina\\nvacina_nome: nome da vacina/produto\\nsistema origem: nome do sistema de origem\\n'"
      ]
     },
     "metadata": {},
     "execution_count": 1
    }
   ],
   "metadata": {}
  },
  {
   "cell_type": "markdown",
   "source": [
    "# Análise Exploratória de Dados"
   ],
   "metadata": {}
  },
  {
   "cell_type": "code",
   "execution_count": 2,
   "source": [
    "import pandas as pd\r\n",
    "import numpy as np\r\n",
    "\r\n",
    "import seaborn as sns\r\n",
    "import matplotlib.pyplot as plt"
   ],
   "outputs": [],
   "metadata": {}
  },
  {
   "cell_type": "markdown",
   "source": [
    "Estimativa da população segundo IBGE no link - 'https://sidra.ibge.gov.br/tabela/6579' para determinar estado de estudo."
   ],
   "metadata": {}
  },
  {
   "cell_type": "code",
   "execution_count": 3,
   "source": [
    "populacao = pd.read_csv('populacao_estados_ibge.csv', sep=';')\r\n",
    "populacao.info()"
   ],
   "outputs": [
    {
     "output_type": "stream",
     "name": "stdout",
     "text": [
      "<class 'pandas.core.frame.DataFrame'>\n",
      "RangeIndex: 28 entries, 0 to 27\n",
      "Data columns (total 3 columns):\n",
      " #   Column                         Non-Null Count  Dtype \n",
      "---  ------                         --------------  ----- \n",
      " 0   Cód.                           28 non-null     int64 \n",
      " 1   Brasil e Unidade da Federação  28 non-null     object\n",
      " 2   2021                           28 non-null     int64 \n",
      "dtypes: int64(2), object(1)\n",
      "memory usage: 800.0+ bytes\n"
     ]
    }
   ],
   "metadata": {}
  },
  {
   "cell_type": "code",
   "execution_count": 4,
   "source": [
    "populacao.rename(columns={'Cód' : 'Cod','Brasil e Unidade da Federação' : 'Estado', '2021' : 'Populacao'}, inplace=True)"
   ],
   "outputs": [],
   "metadata": {}
  },
  {
   "cell_type": "code",
   "execution_count": 5,
   "source": [
    "populacao[populacao['Estado'] != 'Brasil'].sort_values('Populacao').plot(kind='bar', x='Estado', y='Populacao')"
   ],
   "outputs": [
    {
     "output_type": "execute_result",
     "data": {
      "text/plain": [
       "<AxesSubplot:xlabel='Estado'>"
      ]
     },
     "metadata": {},
     "execution_count": 5
    },
    {
     "output_type": "display_data",
     "data": {
      "image/png": "[encoded data removed]",
      "text/plain": [
       "<Figure size 432x288 with 1 Axes>"
      ]
     },
     "metadata": {
      "needs_background": "light"
     }
    }
   ],
   "metadata": {}
  },
  {
   "cell_type": "code",
   "execution_count": 6,
   "source": [
    "populacao[populacao['Estado'] == 'Roraima']"
   ],
   "outputs": [
    {
     "output_type": "execute_result",
     "data": {
      "text/html": [
       "<div>\n",
       "<style scoped>\n",
       "    .dataframe tbody tr th:only-of-type {\n",
       "        vertical-align: middle;\n",
       "    }\n",
       "\n",
       "    .dataframe tbody tr th {\n",
       "        vertical-align: top;\n",
       "    }\n",
       "\n",
       "    .dataframe thead th {\n",
       "        text-align: right;\n",
       "    }\n",
       "</style>\n",
       "<table border=\"1\" class=\"dataframe\">\n",
       "  <thead>\n",
       "    <tr style=\"text-align: right;\">\n",
       "      <th></th>\n",
       "      <th>Cód.</th>\n",
       "      <th>Estado</th>\n",
       "      <th>Populacao</th>\n",
       "    </tr>\n",
       "  </thead>\n",
       "  <tbody>\n",
       "    <tr>\n",
       "      <th>4</th>\n",
       "      <td>14</td>\n",
       "      <td>Roraima</td>\n",
       "      <td>652713</td>\n",
       "    </tr>\n",
       "  </tbody>\n",
       "</table>\n",
       "</div>"
      ],
      "text/plain": [
       "   Cód.   Estado  Populacao\n",
       "4    14  Roraima     652713"
      ]
     },
     "metadata": {},
     "execution_count": 6
    }
   ],
   "metadata": {}
  },
  {
   "cell_type": "markdown",
   "source": [
    "Escolhi o estado de Roraima por possuir a menor população e provavelmente o menor dataset no portal do Open Data SUS."
   ],
   "metadata": {}
  },
  {
   "cell_type": "code",
   "execution_count": 28,
   "source": [
    "# opção de acesso direto a url\r\n",
    "# url = 'https://s3-sa-east-1.amazonaws.com/ckan.saude.gov.br/PNI/vacina/uf/2021-09-30/uf%3DRO/part-00000-40c13256-c916-44a6-8b22-66de465ae610.c000.csv'\r\n",
    "\r\n",
    "dados = pd.read_csv('dados_vacinacao_Roraima.csv', sep=';')\r\n",
    "dados.info()"
   ],
   "outputs": [
    {
     "output_type": "stream",
     "name": "stdout",
     "text": [
      "<class 'pandas.core.frame.DataFrame'>\n",
      "RangeIndex: 1699414 entries, 0 to 1699413\n",
      "Data columns (total 34 columns):\n",
      " #   Column                                    Dtype  \n",
      "---  ------                                    -----  \n",
      " 0   document_id                               object \n",
      " 1   paciente_id                               object \n",
      " 2   paciente_idade                            int64  \n",
      " 3   paciente_datanascimento                   object \n",
      " 4   paciente_enumsexobiologico                object \n",
      " 5   paciente_racacor_codigo                   int64  \n",
      " 6   paciente_racacor_valor                    object \n",
      " 7   paciente_endereco_coibgemunicipio         float64\n",
      " 8   paciente_endereco_copais                  float64\n",
      " 9   paciente_endereco_nmmunicipio             object \n",
      " 10  paciente_endereco_nmpais                  object \n",
      " 11  paciente_endereco_uf                      object \n",
      " 12  paciente_endereco_cep                     float64\n",
      " 13  paciente_nacionalidade_enumnacionalidade  object \n",
      " 14  estabelecimento_valor                     int64  \n",
      " 15  estabelecimento_razaosocial               object \n",
      " 16  estalecimento_nofantasia                  object \n",
      " 17  estabelecimento_municipio_codigo          int64  \n",
      " 18  estabelecimento_municipio_nome            object \n",
      " 19  estabelecimento_uf                        object \n",
      " 20  vacina_grupoatendimento_codigo            int64  \n",
      " 21  vacina_grupoatendimento_nome              object \n",
      " 22  vacina_categoria_codigo                   float64\n",
      " 23  vacina_categoria_nome                     object \n",
      " 24  vacina_lote                               object \n",
      " 25  vacina_fabricante_nome                    object \n",
      " 26  vacina_fabricante_referencia              object \n",
      " 27  vacina_dataaplicacao                      object \n",
      " 28  vacina_descricao_dose                     object \n",
      " 29  vacina_codigo                             int64  \n",
      " 30  vacina_nome                               object \n",
      " 31  sistema_origem                            object \n",
      " 32  data_importacao_rnds                      object \n",
      " 33  id_sistema_origem                         int64  \n",
      "dtypes: float64(4), int64(7), object(23)\n",
      "memory usage: 440.8+ MB\n"
     ]
    }
   ],
   "metadata": {}
  },
  {
   "cell_type": "code",
   "execution_count": 8,
   "source": [
    "dados.columns"
   ],
   "outputs": [
    {
     "output_type": "execute_result",
     "data": {
      "text/plain": [
       "Index(['document_id', 'paciente_id', 'paciente_idade',\n",
       "       'paciente_datanascimento', 'paciente_enumsexobiologico',\n",
       "       'paciente_racacor_codigo', 'paciente_racacor_valor',\n",
       "       'paciente_endereco_coibgemunicipio', 'paciente_endereco_copais',\n",
       "       'paciente_endereco_nmmunicipio', 'paciente_endereco_nmpais',\n",
       "       'paciente_endereco_uf', 'paciente_endereco_cep',\n",
       "       'paciente_nacionalidade_enumnacionalidade', 'estabelecimento_valor',\n",
       "       'estabelecimento_razaosocial', 'estalecimento_nofantasia',\n",
       "       'estabelecimento_municipio_codigo', 'estabelecimento_municipio_nome',\n",
       "       'estabelecimento_uf', 'vacina_grupoatendimento_codigo',\n",
       "       'vacina_grupoatendimento_nome', 'vacina_categoria_codigo',\n",
       "       'vacina_categoria_nome', 'vacina_lote', 'vacina_fabricante_nome',\n",
       "       'vacina_fabricante_referencia', 'vacina_dataaplicacao',\n",
       "       'vacina_descricao_dose', 'vacina_codigo', 'vacina_nome',\n",
       "       'sistema_origem', 'data_importacao_rnds', 'id_sistema_origem'],\n",
       "      dtype='object')"
      ]
     },
     "metadata": {},
     "execution_count": 8
    }
   ],
   "metadata": {}
  },
  {
   "cell_type": "markdown",
   "source": [
    "## Pacientes"
   ],
   "metadata": {}
  },
  {
   "cell_type": "code",
   "execution_count": 9,
   "source": [
    "pacientes = [\r\n",
    "    'paciente_id', 'paciente_idade',\r\n",
    "       'paciente_datanascimento', 'paciente_enumsexobiologico',\r\n",
    "       'paciente_racacor_codigo', 'paciente_racacor_valor',\r\n",
    "       'paciente_endereco_coibgemunicipio', 'paciente_endereco_copais',\r\n",
    "       'paciente_endereco_nmmunicipio', 'paciente_endereco_nmpais',\r\n",
    "       'paciente_endereco_uf', 'paciente_endereco_cep',\r\n",
    "       'paciente_nacionalidade_enumnacionalidade',\r\n",
    "]\r\n",
    "\r\n",
    "dados[pacientes].head()"
   ],
   "outputs": [
    {
     "output_type": "execute_result",
     "data": {
      "text/html": [
       "<div>\n",
       "<style scoped>\n",
       "    .dataframe tbody tr th:only-of-type {\n",
       "        vertical-align: middle;\n",
       "    }\n",
       "\n",
       "    .dataframe tbody tr th {\n",
       "        vertical-align: top;\n",
       "    }\n",
       "\n",
       "    .dataframe thead th {\n",
       "        text-align: right;\n",
       "    }\n",
       "</style>\n",
       "<table border=\"1\" class=\"dataframe\">\n",
       "  <thead>\n",
       "    <tr style=\"text-align: right;\">\n",
       "      <th></th>\n",
       "      <th>paciente_id</th>\n",
       "      <th>paciente_idade</th>\n",
       "      <th>paciente_datanascimento</th>\n",
       "      <th>paciente_enumsexobiologico</th>\n",
       "      <th>paciente_racacor_codigo</th>\n",
       "      <th>paciente_racacor_valor</th>\n",
       "      <th>paciente_endereco_coibgemunicipio</th>\n",
       "      <th>paciente_endereco_copais</th>\n",
       "      <th>paciente_endereco_nmmunicipio</th>\n",
       "      <th>paciente_endereco_nmpais</th>\n",
       "      <th>paciente_endereco_uf</th>\n",
       "      <th>paciente_endereco_cep</th>\n",
       "      <th>paciente_nacionalidade_enumnacionalidade</th>\n",
       "    </tr>\n",
       "  </thead>\n",
       "  <tbody>\n",
       "    <tr>\n",
       "      <th>0</th>\n",
       "      <td>79fb500910ba184f757d1894f06d2f47d201117e30801a...</td>\n",
       "      <td>24</td>\n",
       "      <td>1997-03-05</td>\n",
       "      <td>F</td>\n",
       "      <td>3</td>\n",
       "      <td>PARDA</td>\n",
       "      <td>110037.0</td>\n",
       "      <td>10.0</td>\n",
       "      <td>ALTO ALEGRE DOS PARECIS</td>\n",
       "      <td>BRASIL</td>\n",
       "      <td>RO</td>\n",
       "      <td>76952.0</td>\n",
       "      <td>B</td>\n",
       "    </tr>\n",
       "    <tr>\n",
       "      <th>1</th>\n",
       "      <td>55919244404512426044f7688a53a98b910b0e9549bfe5...</td>\n",
       "      <td>61</td>\n",
       "      <td>1960-04-02</td>\n",
       "      <td>M</td>\n",
       "      <td>1</td>\n",
       "      <td>BRANCA</td>\n",
       "      <td>110020.0</td>\n",
       "      <td>10.0</td>\n",
       "      <td>PORTO VELHO</td>\n",
       "      <td>BRASIL</td>\n",
       "      <td>RO</td>\n",
       "      <td>76841.0</td>\n",
       "      <td>B</td>\n",
       "    </tr>\n",
       "    <tr>\n",
       "      <th>2</th>\n",
       "      <td>b9978a285b48b229625cc9a77d4318afa72aacbb794bc7...</td>\n",
       "      <td>73</td>\n",
       "      <td>1947-11-28</td>\n",
       "      <td>F</td>\n",
       "      <td>3</td>\n",
       "      <td>PARDA</td>\n",
       "      <td>110013.0</td>\n",
       "      <td>10.0</td>\n",
       "      <td>MACHADINHO D'OESTE</td>\n",
       "      <td>BRASIL</td>\n",
       "      <td>RO</td>\n",
       "      <td>76868.0</td>\n",
       "      <td>B</td>\n",
       "    </tr>\n",
       "    <tr>\n",
       "      <th>3</th>\n",
       "      <td>fa0e6c294c6505a104dd79924b1e670e36d3c431715505...</td>\n",
       "      <td>65</td>\n",
       "      <td>1955-09-30</td>\n",
       "      <td>F</td>\n",
       "      <td>2</td>\n",
       "      <td>PRETA</td>\n",
       "      <td>110010.0</td>\n",
       "      <td>10.0</td>\n",
       "      <td>GUAJARA-MIRIM</td>\n",
       "      <td>BRASIL</td>\n",
       "      <td>RO</td>\n",
       "      <td>76850.0</td>\n",
       "      <td>B</td>\n",
       "    </tr>\n",
       "    <tr>\n",
       "      <th>4</th>\n",
       "      <td>8dc17335749e9063789b515a4b5e8c06e5552f1a4ab829...</td>\n",
       "      <td>66</td>\n",
       "      <td>1955-01-16</td>\n",
       "      <td>M</td>\n",
       "      <td>1</td>\n",
       "      <td>BRANCA</td>\n",
       "      <td>110009.0</td>\n",
       "      <td>10.0</td>\n",
       "      <td>ESPIGAO D'OESTE</td>\n",
       "      <td>BRASIL</td>\n",
       "      <td>RO</td>\n",
       "      <td>76974.0</td>\n",
       "      <td>B</td>\n",
       "    </tr>\n",
       "  </tbody>\n",
       "</table>\n",
       "</div>"
      ],
      "text/plain": [
       "                                         paciente_id  paciente_idade  \\\n",
       "0  79fb500910ba184f757d1894f06d2f47d201117e30801a...              24   \n",
       "1  55919244404512426044f7688a53a98b910b0e9549bfe5...              61   \n",
       "2  b9978a285b48b229625cc9a77d4318afa72aacbb794bc7...              73   \n",
       "3  fa0e6c294c6505a104dd79924b1e670e36d3c431715505...              65   \n",
       "4  8dc17335749e9063789b515a4b5e8c06e5552f1a4ab829...              66   \n",
       "\n",
       "  paciente_datanascimento paciente_enumsexobiologico  paciente_racacor_codigo  \\\n",
       "0              1997-03-05                          F                        3   \n",
       "1              1960-04-02                          M                        1   \n",
       "2              1947-11-28                          F                        3   \n",
       "3              1955-09-30                          F                        2   \n",
       "4              1955-01-16                          M                        1   \n",
       "\n",
       "  paciente_racacor_valor  paciente_endereco_coibgemunicipio  \\\n",
       "0                  PARDA                           110037.0   \n",
       "1                 BRANCA                           110020.0   \n",
       "2                  PARDA                           110013.0   \n",
       "3                  PRETA                           110010.0   \n",
       "4                 BRANCA                           110009.0   \n",
       "\n",
       "   paciente_endereco_copais paciente_endereco_nmmunicipio  \\\n",
       "0                      10.0       ALTO ALEGRE DOS PARECIS   \n",
       "1                      10.0                   PORTO VELHO   \n",
       "2                      10.0            MACHADINHO D'OESTE   \n",
       "3                      10.0                 GUAJARA-MIRIM   \n",
       "4                      10.0               ESPIGAO D'OESTE   \n",
       "\n",
       "  paciente_endereco_nmpais paciente_endereco_uf  paciente_endereco_cep  \\\n",
       "0                   BRASIL                   RO                76952.0   \n",
       "1                   BRASIL                   RO                76841.0   \n",
       "2                   BRASIL                   RO                76868.0   \n",
       "3                   BRASIL                   RO                76850.0   \n",
       "4                   BRASIL                   RO                76974.0   \n",
       "\n",
       "  paciente_nacionalidade_enumnacionalidade  \n",
       "0                                        B  \n",
       "1                                        B  \n",
       "2                                        B  \n",
       "3                                        B  \n",
       "4                                        B  "
      ]
     },
     "metadata": {},
     "execution_count": 9
    }
   ],
   "metadata": {}
  },
  {
   "cell_type": "markdown",
   "source": [
    "## Vacina"
   ],
   "metadata": {}
  },
  {
   "cell_type": "code",
   "execution_count": 10,
   "source": [
    "vacinas = [ \r\n",
    "    'vacina_grupoatendimento_codigo',\r\n",
    "       'vacina_grupoatendimento_nome', 'vacina_categoria_codigo',\r\n",
    "       'vacina_categoria_nome', 'vacina_lote', 'vacina_fabricante_nome',\r\n",
    "       'vacina_fabricante_referencia', 'vacina_dataaplicacao',\r\n",
    "       'vacina_descricao_dose', 'vacina_codigo', 'vacina_nome'\r\n",
    "]\r\n",
    "\r\n",
    "dados[vacinas].head()"
   ],
   "outputs": [
    {
     "output_type": "execute_result",
     "data": {
      "text/html": [
       "<div>\n",
       "<style scoped>\n",
       "    .dataframe tbody tr th:only-of-type {\n",
       "        vertical-align: middle;\n",
       "    }\n",
       "\n",
       "    .dataframe tbody tr th {\n",
       "        vertical-align: top;\n",
       "    }\n",
       "\n",
       "    .dataframe thead th {\n",
       "        text-align: right;\n",
       "    }\n",
       "</style>\n",
       "<table border=\"1\" class=\"dataframe\">\n",
       "  <thead>\n",
       "    <tr style=\"text-align: right;\">\n",
       "      <th></th>\n",
       "      <th>vacina_grupoatendimento_codigo</th>\n",
       "      <th>vacina_grupoatendimento_nome</th>\n",
       "      <th>vacina_categoria_codigo</th>\n",
       "      <th>vacina_categoria_nome</th>\n",
       "      <th>vacina_lote</th>\n",
       "      <th>vacina_fabricante_nome</th>\n",
       "      <th>vacina_fabricante_referencia</th>\n",
       "      <th>vacina_dataaplicacao</th>\n",
       "      <th>vacina_descricao_dose</th>\n",
       "      <th>vacina_codigo</th>\n",
       "      <th>vacina_nome</th>\n",
       "    </tr>\n",
       "  </thead>\n",
       "  <tbody>\n",
       "    <tr>\n",
       "      <th>0</th>\n",
       "      <td>201</td>\n",
       "      <td>Pessoas de 60 a 64 anos</td>\n",
       "      <td>2.0</td>\n",
       "      <td>Faixa Etária</td>\n",
       "      <td>210112</td>\n",
       "      <td>MINISTERIO DA SAUDE</td>\n",
       "      <td>Organization/00394544000851</td>\n",
       "      <td>2021-08-12</td>\n",
       "      <td>1ª Dose</td>\n",
       "      <td>89</td>\n",
       "      <td>Covid-19-AstraZeneca</td>\n",
       "    </tr>\n",
       "    <tr>\n",
       "      <th>1</th>\n",
       "      <td>201</td>\n",
       "      <td>Pessoas de 18 a 64 anos</td>\n",
       "      <td>2.0</td>\n",
       "      <td>Faixa Etária</td>\n",
       "      <td>210089</td>\n",
       "      <td>FUNDACAO BUTANTAN</td>\n",
       "      <td>Organization/61189445000156</td>\n",
       "      <td>2021-04-03</td>\n",
       "      <td>1ª Dose</td>\n",
       "      <td>86</td>\n",
       "      <td>Covid-19-Coronavac-Sinovac/Butantan</td>\n",
       "    </tr>\n",
       "    <tr>\n",
       "      <th>2</th>\n",
       "      <td>203</td>\n",
       "      <td>Pessoas de 70 a 74 anos</td>\n",
       "      <td>2.0</td>\n",
       "      <td>Faixa Etária</td>\n",
       "      <td>210052A</td>\n",
       "      <td>FUNDACAO BUTANTAN</td>\n",
       "      <td>Organization/61189445000156</td>\n",
       "      <td>2021-03-31</td>\n",
       "      <td>1ª Dose</td>\n",
       "      <td>86</td>\n",
       "      <td>Covid-19-Coronavac-Sinovac/Butantan</td>\n",
       "    </tr>\n",
       "    <tr>\n",
       "      <th>3</th>\n",
       "      <td>107</td>\n",
       "      <td>Hipertensão de difícil controle ou com complic...</td>\n",
       "      <td>1.0</td>\n",
       "      <td>Comorbidades</td>\n",
       "      <td>4120Z005</td>\n",
       "      <td>FUNDACAO OSWALDO CRUZ</td>\n",
       "      <td>Organization/33781055000135</td>\n",
       "      <td>2021-02-12</td>\n",
       "      <td>1ª Dose</td>\n",
       "      <td>85</td>\n",
       "      <td>Vacina Covid-19 - Covishield</td>\n",
       "    </tr>\n",
       "    <tr>\n",
       "      <th>4</th>\n",
       "      <td>202</td>\n",
       "      <td>Pessoas de 65 a 69 anos</td>\n",
       "      <td>2.0</td>\n",
       "      <td>Faixa Etária</td>\n",
       "      <td>210110</td>\n",
       "      <td>FUNDACAO BUTANTAN</td>\n",
       "      <td>Organization/61189445000156</td>\n",
       "      <td>2021-04-09</td>\n",
       "      <td>1ª Dose</td>\n",
       "      <td>86</td>\n",
       "      <td>Covid-19-Coronavac-Sinovac/Butantan</td>\n",
       "    </tr>\n",
       "  </tbody>\n",
       "</table>\n",
       "</div>"
      ],
      "text/plain": [
       "   vacina_grupoatendimento_codigo  \\\n",
       "0                             201   \n",
       "1                             201   \n",
       "2                             203   \n",
       "3                             107   \n",
       "4                             202   \n",
       "\n",
       "                        vacina_grupoatendimento_nome  vacina_categoria_codigo  \\\n",
       "0                            Pessoas de 60 a 64 anos                      2.0   \n",
       "1                            Pessoas de 18 a 64 anos                      2.0   \n",
       "2                            Pessoas de 70 a 74 anos                      2.0   \n",
       "3  Hipertensão de difícil controle ou com complic...                      1.0   \n",
       "4                            Pessoas de 65 a 69 anos                      2.0   \n",
       "\n",
       "  vacina_categoria_nome vacina_lote vacina_fabricante_nome  \\\n",
       "0          Faixa Etária      210112    MINISTERIO DA SAUDE   \n",
       "1          Faixa Etária      210089      FUNDACAO BUTANTAN   \n",
       "2          Faixa Etária     210052A      FUNDACAO BUTANTAN   \n",
       "3          Comorbidades    4120Z005  FUNDACAO OSWALDO CRUZ   \n",
       "4          Faixa Etária      210110      FUNDACAO BUTANTAN   \n",
       "\n",
       "  vacina_fabricante_referencia vacina_dataaplicacao vacina_descricao_dose  \\\n",
       "0  Organization/00394544000851           2021-08-12               1ª Dose   \n",
       "1  Organization/61189445000156           2021-04-03               1ª Dose   \n",
       "2  Organization/61189445000156           2021-03-31               1ª Dose   \n",
       "3  Organization/33781055000135           2021-02-12               1ª Dose   \n",
       "4  Organization/61189445000156           2021-04-09               1ª Dose   \n",
       "\n",
       "   vacina_codigo                          vacina_nome  \n",
       "0             89                 Covid-19-AstraZeneca  \n",
       "1             86  Covid-19-Coronavac-Sinovac/Butantan  \n",
       "2             86  Covid-19-Coronavac-Sinovac/Butantan  \n",
       "3             85         Vacina Covid-19 - Covishield  \n",
       "4             86  Covid-19-Coronavac-Sinovac/Butantan  "
      ]
     },
     "metadata": {},
     "execution_count": 10
    }
   ],
   "metadata": {}
  },
  {
   "cell_type": "code",
   "execution_count": 11,
   "source": [
    "dados.groupby('vacina_descricao_dose')['paciente_id'].count()"
   ],
   "outputs": [
    {
     "output_type": "execute_result",
     "data": {
      "text/plain": [
       "vacina_descricao_dose\n",
       "1ª Dose                 1123153\n",
       "1ª Dose Revacinação          92\n",
       "2ª Dose                  541467\n",
       "3ª Dose                     157\n",
       "Dose                      30855\n",
       "Dose Adicional              349\n",
       "Reforço                    3341\n",
       "Name: paciente_id, dtype: int64"
      ]
     },
     "metadata": {},
     "execution_count": 11
    }
   ],
   "metadata": {}
  },
  {
   "cell_type": "code",
   "execution_count": 12,
   "source": [
    "dados.vacina_descricao_dose.unique()"
   ],
   "outputs": [
    {
     "output_type": "execute_result",
     "data": {
      "text/plain": [
       "array(['1ª\\xa0Dose', '2ª\\xa0Dose', 'Dose\\xa0', 'Dose\\xa0Adicional\\xa0',\n",
       "       'Reforço\\xa0', '3ª\\xa0Dose', '1ª\\xa0Dose\\xa0Revacinação\\xa0'],\n",
       "      dtype=object)"
      ]
     },
     "metadata": {},
     "execution_count": 12
    }
   ],
   "metadata": {}
  },
  {
   "cell_type": "code",
   "execution_count": 29,
   "source": [
    "dados.vacina_descricao_dose = dados.vacina_descricao_dose.apply(lambda x: x.replace('\\xa0', ' '))\r\n"
   ],
   "outputs": [],
   "metadata": {}
  },
  {
   "cell_type": "code",
   "execution_count": 30,
   "source": [
    "dados.vacina_descricao_dose.unique()"
   ],
   "outputs": [
    {
     "output_type": "execute_result",
     "data": {
      "text/plain": [
       "array(['1ª Dose', '2ª Dose', 'Dose ', 'Dose Adicional ', 'Reforço ',\n",
       "       '3ª Dose', '1ª Dose Revacinação '], dtype=object)"
      ]
     },
     "metadata": {},
     "execution_count": 30
    }
   ],
   "metadata": {}
  },
  {
   "cell_type": "code",
   "execution_count": null,
   "source": [
    "print('taxa de vacinados em função da estimativa do IBGE: ' + \r\n",
    "    str(\r\n",
    "        (len(dados[(dados.vacina_descricao_dose == '1ª Dose') | \r\n",
    "        (dados.vacina_descricao_dose == '1ª Dose Revacinação')])\r\n",
    "        / (populacao[populacao['Estado'] == 'Roraima'].Populacao)))\r\n",
    ")"
   ],
   "outputs": [
    {
     "output_type": "stream",
     "name": "stdout",
     "text": [
      "taxa de vacinados em função da estimativa do IBGE: 4    0.0\n",
      "Name: Populacao, dtype: float64\n"
     ]
    }
   ],
   "metadata": {}
  },
  {
   "cell_type": "code",
   "execution_count": null,
   "source": [
    "dados[(dados.vacina_descricao_dose == '1ª Dose') | \r\n",
    "        (dados.vacina_descricao_dose == '1ª Dose Revacinação')]"
   ],
   "outputs": [
    {
     "output_type": "execute_result",
     "data": {
      "text/html": [
       "<div>\n",
       "<style scoped>\n",
       "    .dataframe tbody tr th:only-of-type {\n",
       "        vertical-align: middle;\n",
       "    }\n",
       "\n",
       "    .dataframe tbody tr th {\n",
       "        vertical-align: top;\n",
       "    }\n",
       "\n",
       "    .dataframe thead th {\n",
       "        text-align: right;\n",
       "    }\n",
       "</style>\n",
       "<table border=\"1\" class=\"dataframe\">\n",
       "  <thead>\n",
       "    <tr style=\"text-align: right;\">\n",
       "      <th></th>\n",
       "      <th>document_id</th>\n",
       "      <th>paciente_id</th>\n",
       "      <th>paciente_idade</th>\n",
       "      <th>paciente_datanascimento</th>\n",
       "      <th>paciente_enumsexobiologico</th>\n",
       "      <th>paciente_racacor_codigo</th>\n",
       "      <th>paciente_racacor_valor</th>\n",
       "      <th>paciente_endereco_coibgemunicipio</th>\n",
       "      <th>paciente_endereco_copais</th>\n",
       "      <th>paciente_endereco_nmmunicipio</th>\n",
       "      <th>...</th>\n",
       "      <th>vacina_lote</th>\n",
       "      <th>vacina_fabricante_nome</th>\n",
       "      <th>vacina_fabricante_referencia</th>\n",
       "      <th>vacina_dataaplicacao</th>\n",
       "      <th>vacina_descricao_dose</th>\n",
       "      <th>vacina_codigo</th>\n",
       "      <th>vacina_nome</th>\n",
       "      <th>sistema_origem</th>\n",
       "      <th>data_importacao_rnds</th>\n",
       "      <th>id_sistema_origem</th>\n",
       "    </tr>\n",
       "  </thead>\n",
       "  <tbody>\n",
       "  </tbody>\n",
       "</table>\n",
       "<p>0 rows × 34 columns</p>\n",
       "</div>"
      ],
      "text/plain": [
       "Empty DataFrame\n",
       "Columns: [document_id, paciente_id, paciente_idade, paciente_datanascimento, paciente_enumsexobiologico, paciente_racacor_codigo, paciente_racacor_valor, paciente_endereco_coibgemunicipio, paciente_endereco_copais, paciente_endereco_nmmunicipio, paciente_endereco_nmpais, paciente_endereco_uf, paciente_endereco_cep, paciente_nacionalidade_enumnacionalidade, estabelecimento_valor, estabelecimento_razaosocial, estalecimento_nofantasia, estabelecimento_municipio_codigo, estabelecimento_municipio_nome, estabelecimento_uf, vacina_grupoatendimento_codigo, vacina_grupoatendimento_nome, vacina_categoria_codigo, vacina_categoria_nome, vacina_lote, vacina_fabricante_nome, vacina_fabricante_referencia, vacina_dataaplicacao, vacina_descricao_dose, vacina_codigo, vacina_nome, sistema_origem, data_importacao_rnds, id_sistema_origem]\n",
       "Index: []\n",
       "\n",
       "[0 rows x 34 columns]"
      ]
     },
     "metadata": {},
     "execution_count": 27
    }
   ],
   "metadata": {}
  }
 ],
 "metadata": {
  "orig_nbformat": 4,
  "language_info": {
   "name": "python",
   "version": "3.8.5",
   "mimetype": "text/x-python",
   "codemirror_mode": {
    "name": "ipython",
    "version": 3
   },
   "pygments_lexer": "ipython3",
   "nbconvert_exporter": "python",
   "file_extension": ".py"
  },
  "kernelspec": {
   "name": "python3",
   "display_name": "Python 3.8.5 64-bit ('base': conda)"
  },
  "interpreter": {
   "hash": "b3ba2566441a7c06988d0923437866b63cedc61552a5af99d1f4fb67d367b25f"
  }
 },
 "nbformat": 4,
 "nbformat_minor": 2
}